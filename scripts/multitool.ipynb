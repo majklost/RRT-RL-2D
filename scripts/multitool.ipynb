{
 "cells": [
  {
   "cell_type": "code",
   "execution_count": 3,
   "metadata": {},
   "outputs": [],
   "source": [
    "from rrt_rl_2D.utils.save_manager import delete_experiment, load_manager"
   ]
  },
  {
   "cell_type": "code",
   "execution_count": 5,
   "metadata": {},
   "outputs": [
    {
     "data": {
      "text/plain": [
       "<rrt_rl_2D.utils.save_manager._SaveManagerV2 at 0x7dd408c147a0>"
      ]
     },
     "execution_count": 5,
     "metadata": {},
     "output_type": "execute_result"
    }
   ],
   "source": [
    "load_manager(\"/home/michal/Documents/Skola/bakalarka/RRT-RL-2D/experiments/RL\")"
   ]
  },
  {
   "cell_type": "code",
   "execution_count": 6,
   "metadata": {},
   "outputs": [
    {
     "name": "stdout",
     "output_type": "stream",
     "text": [
      "cable-last-last not found in the experiments, current experiments are ['cable-radius-obs_vel_stronger_fast', 'cable-radius-debug_radius', 'cable-radius-obs_vel_stronger_stones', 'cable-radius-obs_vel_stones_relearn', 'cable-blend-blend_basic', 'cable-pid-basic', 'cable-blend-blend_strenght', 'cable-standard-inner_angles', 'cable-standard-standard', 'cable-blend-blend_strenght_nonconvex', 'cable-standard-big_test']\n"
     ]
    }
   ],
   "source": [
    "delete_experiment('cable-last-last')"
   ]
  }
 ],
 "metadata": {
  "kernelspec": {
   "display_name": ".venv",
   "language": "python",
   "name": "python3"
  },
  "language_info": {
   "codemirror_mode": {
    "name": "ipython",
    "version": 3
   },
   "file_extension": ".py",
   "mimetype": "text/x-python",
   "name": "python",
   "nbconvert_exporter": "python",
   "pygments_lexer": "ipython3",
   "version": "3.10.12"
  }
 },
 "nbformat": 4,
 "nbformat_minor": 2
}
